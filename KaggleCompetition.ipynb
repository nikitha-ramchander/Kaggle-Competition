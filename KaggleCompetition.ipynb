{
  "nbformat": 4,
  "nbformat_minor": 0,
  "metadata": {
    "colab": {
      "name": "KaggleCompetition.ipynb",
      "provenance": [],
      "collapsed_sections": [],
      "mount_file_id": "193Rq8PG-GaLsMVFDe6Nlmpy7GENzpGAA",
      "authorship_tag": "ABX9TyP4EkJ7XYgYRkeg5vN6oS1R",
      "include_colab_link": true
    },
    "kernelspec": {
      "name": "python3",
      "display_name": "Python 3"
    },
    "language_info": {
      "name": "python"
    }
  },
  "cells": [
    {
      "cell_type": "markdown",
      "metadata": {
        "id": "view-in-github",
        "colab_type": "text"
      },
      "source": [
        "<a href=\"https://colab.research.google.com/github/nikitha-ramchander/Kaggle-Competition/blob/main/KaggleCompetition.ipynb\" target=\"_parent\"><img src=\"https://colab.research.google.com/assets/colab-badge.svg\" alt=\"Open In Colab\"/></a>"
      ]
    },
    {
      "cell_type": "markdown",
      "metadata": {
        "id": "bDYU5D7LlJHT"
      },
      "source": [
        "My first try competing in a kaggle competition! "
      ]
    },
    {
      "cell_type": "code",
      "metadata": {
        "id": "srn7zmtb-ZX3"
      },
      "source": [
        "# Imports \n",
        "import pandas as pd \n",
        "import numpy as np \n",
        "import matplotlib.pyplot as plt\n",
        "\n",
        "from sklearn.model_selection import train_test_split\n",
        "from sklearn.ensemble import GradientBoostingRegressor\n",
        "from sklearn.metrics import mean_squared_error"
      ],
      "execution_count": 336,
      "outputs": []
    },
    {
      "cell_type": "markdown",
      "metadata": {
        "id": "ir0UQNWRUrtV"
      },
      "source": [
        "#Train CSV\n",
        "https://www.kaggle.com/c/csce5300-competition/data"
      ]
    },
    {
      "cell_type": "code",
      "metadata": {
        "id": "ZyXtQ-kG-mDk",
        "colab": {
          "base_uri": "https://localhost:8080/",
          "height": 197
        },
        "outputId": "143194da-be6f-4793-a3ff-eeadbfa4299d"
      },
      "source": [
        "# Load Train Data\n",
        "bike_share = pd.read_csv('/content/drive/MyDrive/Coding Dojo/Week 10: Gradient Boosting Machines /train_luc.csv')\n",
        "bike_share.head()"
      ],
      "execution_count": 337,
      "outputs": [
        {
          "output_type": "execute_result",
          "data": {
            "text/html": [
              "<div>\n",
              "<style scoped>\n",
              "    .dataframe tbody tr th:only-of-type {\n",
              "        vertical-align: middle;\n",
              "    }\n",
              "\n",
              "    .dataframe tbody tr th {\n",
              "        vertical-align: top;\n",
              "    }\n",
              "\n",
              "    .dataframe thead th {\n",
              "        text-align: right;\n",
              "    }\n",
              "</style>\n",
              "<table border=\"1\" class=\"dataframe\">\n",
              "  <thead>\n",
              "    <tr style=\"text-align: right;\">\n",
              "      <th></th>\n",
              "      <th>datetime</th>\n",
              "      <th>season</th>\n",
              "      <th>holiday</th>\n",
              "      <th>workingday</th>\n",
              "      <th>weather</th>\n",
              "      <th>temp</th>\n",
              "      <th>atemp</th>\n",
              "      <th>humidity</th>\n",
              "      <th>windspeed</th>\n",
              "      <th>casual</th>\n",
              "      <th>registered</th>\n",
              "      <th>count</th>\n",
              "    </tr>\n",
              "  </thead>\n",
              "  <tbody>\n",
              "    <tr>\n",
              "      <th>0</th>\n",
              "      <td>2011-01-01 00:00:00</td>\n",
              "      <td>1</td>\n",
              "      <td>0</td>\n",
              "      <td>0</td>\n",
              "      <td>1</td>\n",
              "      <td>9.84</td>\n",
              "      <td>14.395</td>\n",
              "      <td>81</td>\n",
              "      <td>0.0</td>\n",
              "      <td>3</td>\n",
              "      <td>13</td>\n",
              "      <td>16</td>\n",
              "    </tr>\n",
              "    <tr>\n",
              "      <th>1</th>\n",
              "      <td>2011-01-01 01:00:00</td>\n",
              "      <td>1</td>\n",
              "      <td>0</td>\n",
              "      <td>0</td>\n",
              "      <td>1</td>\n",
              "      <td>9.02</td>\n",
              "      <td>13.635</td>\n",
              "      <td>80</td>\n",
              "      <td>0.0</td>\n",
              "      <td>8</td>\n",
              "      <td>32</td>\n",
              "      <td>40</td>\n",
              "    </tr>\n",
              "    <tr>\n",
              "      <th>2</th>\n",
              "      <td>2011-01-01 02:00:00</td>\n",
              "      <td>1</td>\n",
              "      <td>0</td>\n",
              "      <td>0</td>\n",
              "      <td>1</td>\n",
              "      <td>9.02</td>\n",
              "      <td>13.635</td>\n",
              "      <td>80</td>\n",
              "      <td>0.0</td>\n",
              "      <td>5</td>\n",
              "      <td>27</td>\n",
              "      <td>32</td>\n",
              "    </tr>\n",
              "    <tr>\n",
              "      <th>3</th>\n",
              "      <td>2011-01-01 03:00:00</td>\n",
              "      <td>1</td>\n",
              "      <td>0</td>\n",
              "      <td>0</td>\n",
              "      <td>1</td>\n",
              "      <td>9.84</td>\n",
              "      <td>14.395</td>\n",
              "      <td>75</td>\n",
              "      <td>0.0</td>\n",
              "      <td>3</td>\n",
              "      <td>10</td>\n",
              "      <td>13</td>\n",
              "    </tr>\n",
              "    <tr>\n",
              "      <th>4</th>\n",
              "      <td>2011-01-01 04:00:00</td>\n",
              "      <td>1</td>\n",
              "      <td>0</td>\n",
              "      <td>0</td>\n",
              "      <td>1</td>\n",
              "      <td>9.84</td>\n",
              "      <td>14.395</td>\n",
              "      <td>75</td>\n",
              "      <td>0.0</td>\n",
              "      <td>0</td>\n",
              "      <td>1</td>\n",
              "      <td>1</td>\n",
              "    </tr>\n",
              "  </tbody>\n",
              "</table>\n",
              "</div>"
            ],
            "text/plain": [
              "              datetime  season  holiday  ...  casual  registered  count\n",
              "0  2011-01-01 00:00:00       1        0  ...       3          13     16\n",
              "1  2011-01-01 01:00:00       1        0  ...       8          32     40\n",
              "2  2011-01-01 02:00:00       1        0  ...       5          27     32\n",
              "3  2011-01-01 03:00:00       1        0  ...       3          10     13\n",
              "4  2011-01-01 04:00:00       1        0  ...       0           1      1\n",
              "\n",
              "[5 rows x 12 columns]"
            ]
          },
          "metadata": {
            "tags": []
          },
          "execution_count": 337
        }
      ]
    },
    {
      "cell_type": "code",
      "metadata": {
        "colab": {
          "base_uri": "https://localhost:8080/"
        },
        "id": "q1aQH0r0_PNd",
        "outputId": "709c3d5d-3928-4ca6-bc1a-6f9f18efd941"
      },
      "source": [
        "# Summary of DataFrame \n",
        "bike_share.info()"
      ],
      "execution_count": 338,
      "outputs": [
        {
          "output_type": "stream",
          "text": [
            "<class 'pandas.core.frame.DataFrame'>\n",
            "RangeIndex: 9174 entries, 0 to 9173\n",
            "Data columns (total 12 columns):\n",
            " #   Column      Non-Null Count  Dtype  \n",
            "---  ------      --------------  -----  \n",
            " 0   datetime    9174 non-null   object \n",
            " 1   season      9174 non-null   int64  \n",
            " 2   holiday     9174 non-null   int64  \n",
            " 3   workingday  9174 non-null   int64  \n",
            " 4   weather     9174 non-null   int64  \n",
            " 5   temp        9174 non-null   float64\n",
            " 6   atemp       9174 non-null   float64\n",
            " 7   humidity    9174 non-null   int64  \n",
            " 8   windspeed   9174 non-null   float64\n",
            " 9   casual      9174 non-null   int64  \n",
            " 10  registered  9174 non-null   int64  \n",
            " 11  count       9174 non-null   int64  \n",
            "dtypes: float64(3), int64(8), object(1)\n",
            "memory usage: 860.2+ KB\n"
          ],
          "name": "stdout"
        }
      ]
    },
    {
      "cell_type": "code",
      "metadata": {
        "colab": {
          "base_uri": "https://localhost:8080/"
        },
        "id": "WbXwhCVKAVUk",
        "outputId": "907b4f7f-8489-4e64-ea4d-5a299ffc0b7e"
      },
      "source": [
        "# All datatypes are correct? \n",
        "bike_share.dtypes"
      ],
      "execution_count": 339,
      "outputs": [
        {
          "output_type": "execute_result",
          "data": {
            "text/plain": [
              "datetime       object\n",
              "season          int64\n",
              "holiday         int64\n",
              "workingday      int64\n",
              "weather         int64\n",
              "temp          float64\n",
              "atemp         float64\n",
              "humidity        int64\n",
              "windspeed     float64\n",
              "casual          int64\n",
              "registered      int64\n",
              "count           int64\n",
              "dtype: object"
            ]
          },
          "metadata": {
            "tags": []
          },
          "execution_count": 339
        }
      ]
    },
    {
      "cell_type": "code",
      "metadata": {
        "colab": {
          "base_uri": "https://localhost:8080/"
        },
        "id": "SsuMPncwB_AO",
        "outputId": "d56571af-5d9e-4eaf-87d3-194f7d2ccc41"
      },
      "source": [
        "# Missing values? \n",
        "bike_share.isnull().sum()"
      ],
      "execution_count": 340,
      "outputs": [
        {
          "output_type": "execute_result",
          "data": {
            "text/plain": [
              "datetime      0\n",
              "season        0\n",
              "holiday       0\n",
              "workingday    0\n",
              "weather       0\n",
              "temp          0\n",
              "atemp         0\n",
              "humidity      0\n",
              "windspeed     0\n",
              "casual        0\n",
              "registered    0\n",
              "count         0\n",
              "dtype: int64"
            ]
          },
          "metadata": {
            "tags": []
          },
          "execution_count": 340
        }
      ]
    },
    {
      "cell_type": "code",
      "metadata": {
        "colab": {
          "base_uri": "https://localhost:8080/"
        },
        "id": "CBJyMEaDCXjk",
        "outputId": "a852360c-15f2-410f-ad9f-f102d4c99282"
      },
      "source": [
        "# Duplicated rows? \n",
        "bike_share.duplicated().any()"
      ],
      "execution_count": 341,
      "outputs": [
        {
          "output_type": "execute_result",
          "data": {
            "text/plain": [
              "False"
            ]
          },
          "metadata": {
            "tags": []
          },
          "execution_count": 341
        }
      ]
    },
    {
      "cell_type": "code",
      "metadata": {
        "id": "y_HNXljpNWbS"
      },
      "source": [
        "# Before making changes lets duplcate the datetime column.\n",
        "bike_share['date_time'] = bike_share['datetime'] "
      ],
      "execution_count": 342,
      "outputs": []
    },
    {
      "cell_type": "code",
      "metadata": {
        "colab": {
          "base_uri": "https://localhost:8080/"
        },
        "id": "l_XDsX_uNv1Z",
        "outputId": "9b109a15-8b24-4dc5-c537-17bb264dce88"
      },
      "source": [
        "# Check to see if it worked. \n",
        "bike_share.info()"
      ],
      "execution_count": 343,
      "outputs": [
        {
          "output_type": "stream",
          "text": [
            "<class 'pandas.core.frame.DataFrame'>\n",
            "RangeIndex: 9174 entries, 0 to 9173\n",
            "Data columns (total 13 columns):\n",
            " #   Column      Non-Null Count  Dtype  \n",
            "---  ------      --------------  -----  \n",
            " 0   datetime    9174 non-null   object \n",
            " 1   season      9174 non-null   int64  \n",
            " 2   holiday     9174 non-null   int64  \n",
            " 3   workingday  9174 non-null   int64  \n",
            " 4   weather     9174 non-null   int64  \n",
            " 5   temp        9174 non-null   float64\n",
            " 6   atemp       9174 non-null   float64\n",
            " 7   humidity    9174 non-null   int64  \n",
            " 8   windspeed   9174 non-null   float64\n",
            " 9   casual      9174 non-null   int64  \n",
            " 10  registered  9174 non-null   int64  \n",
            " 11  count       9174 non-null   int64  \n",
            " 12  date_time   9174 non-null   object \n",
            "dtypes: float64(3), int64(8), object(2)\n",
            "memory usage: 931.9+ KB\n"
          ],
          "name": "stdout"
        }
      ]
    },
    {
      "cell_type": "code",
      "metadata": {
        "id": "4g7x2_-eRORD"
      },
      "source": [
        "# Datetime column is important in this dataset, so lets figure out how to change it from an object datatype.\n",
        "bike_share['datetime'] = pd.to_datetime(bike_share['datetime'])"
      ],
      "execution_count": 344,
      "outputs": []
    },
    {
      "cell_type": "code",
      "metadata": {
        "id": "3CIOn4lkMZqj"
      },
      "source": [
        "# With the help of this article I understand how to split up the datetime column: \n",
        "# https://towardsdatascience.com/machine-learning-with-datetime-feature-engineering-predicting-healthcare-appointment-no-shows-5e4ca3a85f96\n",
        "\n",
        "bike_share['ScheduledDay_year'] = bike_share['datetime'].dt.year\n",
        "bike_share['ScheduledDay_month'] = bike_share['datetime'].dt.month\n",
        "bike_share['ScheduledDay_week'] = bike_share['datetime'].dt.isocalendar().week # got a future warning with dt.week so I have to include .isocalendar()\n",
        "bike_share['ScheduledDay_day'] = bike_share['datetime'].dt.day\n",
        "bike_share['ScheduledDay_hour'] = bike_share['datetime'].dt.hour\n",
        "bike_share['ScheduledDay_minute'] = bike_share['datetime'].dt.minute\n",
        "bike_share['ScheduledDay_dayofweek'] = bike_share['datetime'].dt.dayofweek"
      ],
      "execution_count": 345,
      "outputs": []
    },
    {
      "cell_type": "code",
      "metadata": {
        "colab": {
          "base_uri": "https://localhost:8080/"
        },
        "id": "5Yk9W2giR_Ec",
        "outputId": "6dfd512f-64e1-4bff-c698-e5b08df07e01"
      },
      "source": [
        "# I need to drop the datetime column here \n",
        "# But when I looked at the test.csv I noticed they didnt include columns casual and registered. \n",
        "# For me to run a model on .predict I need to drop these columns in this dataset\n",
        "bike_share.drop(columns = ['datetime', 'casual', 'registered'], inplace= True)\n",
        "\n",
        "# Check to see if it worked \n",
        "bike_share.info()"
      ],
      "execution_count": 346,
      "outputs": [
        {
          "output_type": "stream",
          "text": [
            "<class 'pandas.core.frame.DataFrame'>\n",
            "RangeIndex: 9174 entries, 0 to 9173\n",
            "Data columns (total 17 columns):\n",
            " #   Column                  Non-Null Count  Dtype  \n",
            "---  ------                  --------------  -----  \n",
            " 0   season                  9174 non-null   int64  \n",
            " 1   holiday                 9174 non-null   int64  \n",
            " 2   workingday              9174 non-null   int64  \n",
            " 3   weather                 9174 non-null   int64  \n",
            " 4   temp                    9174 non-null   float64\n",
            " 5   atemp                   9174 non-null   float64\n",
            " 6   humidity                9174 non-null   int64  \n",
            " 7   windspeed               9174 non-null   float64\n",
            " 8   count                   9174 non-null   int64  \n",
            " 9   date_time               9174 non-null   object \n",
            " 10  ScheduledDay_year       9174 non-null   int64  \n",
            " 11  ScheduledDay_month      9174 non-null   int64  \n",
            " 12  ScheduledDay_week       9174 non-null   UInt32 \n",
            " 13  ScheduledDay_day        9174 non-null   int64  \n",
            " 14  ScheduledDay_hour       9174 non-null   int64  \n",
            " 15  ScheduledDay_minute     9174 non-null   int64  \n",
            " 16  ScheduledDay_dayofweek  9174 non-null   int64  \n",
            "dtypes: UInt32(1), float64(3), int64(12), object(1)\n",
            "memory usage: 1.2+ MB\n"
          ],
          "name": "stdout"
        }
      ]
    },
    {
      "cell_type": "code",
      "metadata": {
        "id": "JPtzsm0OPs9J"
      },
      "source": [
        "# Next step is to set the date_time to an index so it doesnt affect the model. \n",
        "bike_share.set_index(['date_time'], inplace = True)"
      ],
      "execution_count": 347,
      "outputs": []
    },
    {
      "cell_type": "code",
      "metadata": {
        "id": "klDlCJSXpTQf"
      },
      "source": [
        "# Going to drop the Scheduled Day Week column since it wont work with the model \n",
        "bike_share.drop(columns = 'ScheduledDay_week', inplace = True )"
      ],
      "execution_count": 348,
      "outputs": []
    },
    {
      "cell_type": "code",
      "metadata": {
        "colab": {
          "base_uri": "https://localhost:8080/",
          "height": 331
        },
        "id": "6lGUu6mCP2SJ",
        "outputId": "5fc62391-3073-4af0-ee50-a33dc38540af"
      },
      "source": [
        "# Check to see if all changes are in place. \n",
        "bike_share.head()"
      ],
      "execution_count": 349,
      "outputs": [
        {
          "output_type": "execute_result",
          "data": {
            "text/html": [
              "<div>\n",
              "<style scoped>\n",
              "    .dataframe tbody tr th:only-of-type {\n",
              "        vertical-align: middle;\n",
              "    }\n",
              "\n",
              "    .dataframe tbody tr th {\n",
              "        vertical-align: top;\n",
              "    }\n",
              "\n",
              "    .dataframe thead th {\n",
              "        text-align: right;\n",
              "    }\n",
              "</style>\n",
              "<table border=\"1\" class=\"dataframe\">\n",
              "  <thead>\n",
              "    <tr style=\"text-align: right;\">\n",
              "      <th></th>\n",
              "      <th>season</th>\n",
              "      <th>holiday</th>\n",
              "      <th>workingday</th>\n",
              "      <th>weather</th>\n",
              "      <th>temp</th>\n",
              "      <th>atemp</th>\n",
              "      <th>humidity</th>\n",
              "      <th>windspeed</th>\n",
              "      <th>count</th>\n",
              "      <th>ScheduledDay_year</th>\n",
              "      <th>ScheduledDay_month</th>\n",
              "      <th>ScheduledDay_day</th>\n",
              "      <th>ScheduledDay_hour</th>\n",
              "      <th>ScheduledDay_minute</th>\n",
              "      <th>ScheduledDay_dayofweek</th>\n",
              "    </tr>\n",
              "    <tr>\n",
              "      <th>date_time</th>\n",
              "      <th></th>\n",
              "      <th></th>\n",
              "      <th></th>\n",
              "      <th></th>\n",
              "      <th></th>\n",
              "      <th></th>\n",
              "      <th></th>\n",
              "      <th></th>\n",
              "      <th></th>\n",
              "      <th></th>\n",
              "      <th></th>\n",
              "      <th></th>\n",
              "      <th></th>\n",
              "      <th></th>\n",
              "      <th></th>\n",
              "    </tr>\n",
              "  </thead>\n",
              "  <tbody>\n",
              "    <tr>\n",
              "      <th>2011-01-01 00:00:00</th>\n",
              "      <td>1</td>\n",
              "      <td>0</td>\n",
              "      <td>0</td>\n",
              "      <td>1</td>\n",
              "      <td>9.84</td>\n",
              "      <td>14.395</td>\n",
              "      <td>81</td>\n",
              "      <td>0.0</td>\n",
              "      <td>16</td>\n",
              "      <td>2011</td>\n",
              "      <td>1</td>\n",
              "      <td>1</td>\n",
              "      <td>0</td>\n",
              "      <td>0</td>\n",
              "      <td>5</td>\n",
              "    </tr>\n",
              "    <tr>\n",
              "      <th>2011-01-01 01:00:00</th>\n",
              "      <td>1</td>\n",
              "      <td>0</td>\n",
              "      <td>0</td>\n",
              "      <td>1</td>\n",
              "      <td>9.02</td>\n",
              "      <td>13.635</td>\n",
              "      <td>80</td>\n",
              "      <td>0.0</td>\n",
              "      <td>40</td>\n",
              "      <td>2011</td>\n",
              "      <td>1</td>\n",
              "      <td>1</td>\n",
              "      <td>1</td>\n",
              "      <td>0</td>\n",
              "      <td>5</td>\n",
              "    </tr>\n",
              "    <tr>\n",
              "      <th>2011-01-01 02:00:00</th>\n",
              "      <td>1</td>\n",
              "      <td>0</td>\n",
              "      <td>0</td>\n",
              "      <td>1</td>\n",
              "      <td>9.02</td>\n",
              "      <td>13.635</td>\n",
              "      <td>80</td>\n",
              "      <td>0.0</td>\n",
              "      <td>32</td>\n",
              "      <td>2011</td>\n",
              "      <td>1</td>\n",
              "      <td>1</td>\n",
              "      <td>2</td>\n",
              "      <td>0</td>\n",
              "      <td>5</td>\n",
              "    </tr>\n",
              "    <tr>\n",
              "      <th>2011-01-01 03:00:00</th>\n",
              "      <td>1</td>\n",
              "      <td>0</td>\n",
              "      <td>0</td>\n",
              "      <td>1</td>\n",
              "      <td>9.84</td>\n",
              "      <td>14.395</td>\n",
              "      <td>75</td>\n",
              "      <td>0.0</td>\n",
              "      <td>13</td>\n",
              "      <td>2011</td>\n",
              "      <td>1</td>\n",
              "      <td>1</td>\n",
              "      <td>3</td>\n",
              "      <td>0</td>\n",
              "      <td>5</td>\n",
              "    </tr>\n",
              "    <tr>\n",
              "      <th>2011-01-01 04:00:00</th>\n",
              "      <td>1</td>\n",
              "      <td>0</td>\n",
              "      <td>0</td>\n",
              "      <td>1</td>\n",
              "      <td>9.84</td>\n",
              "      <td>14.395</td>\n",
              "      <td>75</td>\n",
              "      <td>0.0</td>\n",
              "      <td>1</td>\n",
              "      <td>2011</td>\n",
              "      <td>1</td>\n",
              "      <td>1</td>\n",
              "      <td>4</td>\n",
              "      <td>0</td>\n",
              "      <td>5</td>\n",
              "    </tr>\n",
              "  </tbody>\n",
              "</table>\n",
              "</div>"
            ],
            "text/plain": [
              "                     season  ...  ScheduledDay_dayofweek\n",
              "date_time                    ...                        \n",
              "2011-01-01 00:00:00       1  ...                       5\n",
              "2011-01-01 01:00:00       1  ...                       5\n",
              "2011-01-01 02:00:00       1  ...                       5\n",
              "2011-01-01 03:00:00       1  ...                       5\n",
              "2011-01-01 04:00:00       1  ...                       5\n",
              "\n",
              "[5 rows x 15 columns]"
            ]
          },
          "metadata": {
            "tags": []
          },
          "execution_count": 349
        }
      ]
    },
    {
      "cell_type": "markdown",
      "metadata": {
        "id": "pGJw2QOzpZYE"
      },
      "source": [
        "# Let's start modeling"
      ]
    },
    {
      "cell_type": "code",
      "metadata": {
        "id": "hibcsfeOEfcy"
      },
      "source": [
        "# Split into features matrix and target vector \n",
        "X = bike_share.drop(columns= ['count'])\n",
        "y = bike_share['count']"
      ],
      "execution_count": 350,
      "outputs": []
    },
    {
      "cell_type": "code",
      "metadata": {
        "colab": {
          "base_uri": "https://localhost:8080/"
        },
        "id": "LLGx0b__IyzR",
        "outputId": "95010d22-3e73-459a-e626-5973047304a3"
      },
      "source": [
        "# 2-dimensional \n",
        "X.shape"
      ],
      "execution_count": 351,
      "outputs": [
        {
          "output_type": "execute_result",
          "data": {
            "text/plain": [
              "(9174, 14)"
            ]
          },
          "metadata": {
            "tags": []
          },
          "execution_count": 351
        }
      ]
    },
    {
      "cell_type": "code",
      "metadata": {
        "colab": {
          "base_uri": "https://localhost:8080/"
        },
        "id": "_dPe7gu7I2XO",
        "outputId": "5e0772e5-3d22-4417-bc09-7cfe170d8a73"
      },
      "source": [
        "# 1-dimensional \n",
        "y.shape"
      ],
      "execution_count": 352,
      "outputs": [
        {
          "output_type": "execute_result",
          "data": {
            "text/plain": [
              "(9174,)"
            ]
          },
          "metadata": {
            "tags": []
          },
          "execution_count": 352
        }
      ]
    },
    {
      "cell_type": "code",
      "metadata": {
        "id": "93m5JkMuGpZz"
      },
      "source": [
        "# Train Test Split\n",
        "X_train, X_test, y_train, y_test = train_test_split(X, y,\n",
        "                                                    test_size = .3,\n",
        "                                                    random_state = 42)"
      ],
      "execution_count": 353,
      "outputs": []
    },
    {
      "cell_type": "code",
      "metadata": {
        "colab": {
          "base_uri": "https://localhost:8080/"
        },
        "id": "XMUBj9xyI3po",
        "outputId": "9891222e-b651-4747-fc07-ac24e801d417"
      },
      "source": [
        "# Instantiate and fit gradient boosting classifier\n",
        "gbc = GradientBoostingRegressor()\n",
        "gbc.fit(X_train, y_train)"
      ],
      "execution_count": 354,
      "outputs": [
        {
          "output_type": "execute_result",
          "data": {
            "text/plain": [
              "GradientBoostingRegressor(alpha=0.9, ccp_alpha=0.0, criterion='friedman_mse',\n",
              "                          init=None, learning_rate=0.1, loss='ls', max_depth=3,\n",
              "                          max_features=None, max_leaf_nodes=None,\n",
              "                          min_impurity_decrease=0.0, min_impurity_split=None,\n",
              "                          min_samples_leaf=1, min_samples_split=2,\n",
              "                          min_weight_fraction_leaf=0.0, n_estimators=100,\n",
              "                          n_iter_no_change=None, presort='deprecated',\n",
              "                          random_state=None, subsample=1.0, tol=0.0001,\n",
              "                          validation_fraction=0.1, verbose=0, warm_start=False)"
            ]
          },
          "metadata": {
            "tags": []
          },
          "execution_count": 354
        }
      ]
    },
    {
      "cell_type": "code",
      "metadata": {
        "colab": {
          "base_uri": "https://localhost:8080/"
        },
        "id": "3bVyzCD6JJBu",
        "outputId": "7a3bac9a-89d8-4dc0-b642-1af6c5c62920"
      },
      "source": [
        "# Calculate \n",
        "print('Training R^2:', gbc.score(X_train, y_train))\n",
        "print('Testing R^2:', gbc.score(X_test, y_test))"
      ],
      "execution_count": 355,
      "outputs": [
        {
          "output_type": "stream",
          "text": [
            "Training R^2: 0.8760712909651382\n",
            "Testing R^2: 0.868998996991793\n"
          ],
          "name": "stdout"
        }
      ]
    },
    {
      "cell_type": "code",
      "metadata": {
        "colab": {
          "base_uri": "https://localhost:8080/"
        },
        "id": "hAiq6pOmUIk5",
        "outputId": "0382e70b-8ac1-4c5a-fd52-0e0c53c2360b"
      },
      "source": [
        "# This competition needs RMSE: Root Mean Squared Error score \n",
        "print('Testing RMSE: ', np.sqrt(mean_squared_error(y_test, gbc.predict(X_test))))"
      ],
      "execution_count": 356,
      "outputs": [
        {
          "output_type": "stream",
          "text": [
            "Testing RMSE:  66.02432235992383\n"
          ],
          "name": "stdout"
        }
      ]
    },
    {
      "cell_type": "markdown",
      "metadata": {
        "id": "Uk861oDgUMzN"
      },
      "source": [
        "#Test CSV"
      ]
    },
    {
      "cell_type": "code",
      "metadata": {
        "colab": {
          "base_uri": "https://localhost:8080/",
          "height": 197
        },
        "id": "K2UeTEljUsBC",
        "outputId": "ed53dcdc-82ba-4a20-9975-180de2b21007"
      },
      "source": [
        "# Load Test Data \n",
        "test = pd.read_csv('/content/drive/MyDrive/Coding Dojo/Week 10: Gradient Boosting Machines /test_luc.csv')\n",
        "test.head()"
      ],
      "execution_count": 357,
      "outputs": [
        {
          "output_type": "execute_result",
          "data": {
            "text/html": [
              "<div>\n",
              "<style scoped>\n",
              "    .dataframe tbody tr th:only-of-type {\n",
              "        vertical-align: middle;\n",
              "    }\n",
              "\n",
              "    .dataframe tbody tr th {\n",
              "        vertical-align: top;\n",
              "    }\n",
              "\n",
              "    .dataframe thead th {\n",
              "        text-align: right;\n",
              "    }\n",
              "</style>\n",
              "<table border=\"1\" class=\"dataframe\">\n",
              "  <thead>\n",
              "    <tr style=\"text-align: right;\">\n",
              "      <th></th>\n",
              "      <th>datetime</th>\n",
              "      <th>season</th>\n",
              "      <th>holiday</th>\n",
              "      <th>workingday</th>\n",
              "      <th>weather</th>\n",
              "      <th>temp</th>\n",
              "      <th>atemp</th>\n",
              "      <th>humidity</th>\n",
              "      <th>windspeed</th>\n",
              "    </tr>\n",
              "  </thead>\n",
              "  <tbody>\n",
              "    <tr>\n",
              "      <th>0</th>\n",
              "      <td>2011-01-17 00:00:00</td>\n",
              "      <td>1</td>\n",
              "      <td>1</td>\n",
              "      <td>0</td>\n",
              "      <td>2</td>\n",
              "      <td>8.20</td>\n",
              "      <td>9.850</td>\n",
              "      <td>47</td>\n",
              "      <td>15.0013</td>\n",
              "    </tr>\n",
              "    <tr>\n",
              "      <th>1</th>\n",
              "      <td>2011-01-17 01:00:00</td>\n",
              "      <td>1</td>\n",
              "      <td>1</td>\n",
              "      <td>0</td>\n",
              "      <td>2</td>\n",
              "      <td>8.20</td>\n",
              "      <td>9.850</td>\n",
              "      <td>44</td>\n",
              "      <td>12.9980</td>\n",
              "    </tr>\n",
              "    <tr>\n",
              "      <th>2</th>\n",
              "      <td>2011-01-17 02:00:00</td>\n",
              "      <td>1</td>\n",
              "      <td>1</td>\n",
              "      <td>0</td>\n",
              "      <td>2</td>\n",
              "      <td>7.38</td>\n",
              "      <td>8.335</td>\n",
              "      <td>43</td>\n",
              "      <td>16.9979</td>\n",
              "    </tr>\n",
              "    <tr>\n",
              "      <th>3</th>\n",
              "      <td>2011-01-17 03:00:00</td>\n",
              "      <td>1</td>\n",
              "      <td>1</td>\n",
              "      <td>0</td>\n",
              "      <td>2</td>\n",
              "      <td>7.38</td>\n",
              "      <td>9.090</td>\n",
              "      <td>43</td>\n",
              "      <td>12.9980</td>\n",
              "    </tr>\n",
              "    <tr>\n",
              "      <th>4</th>\n",
              "      <td>2011-01-17 04:00:00</td>\n",
              "      <td>1</td>\n",
              "      <td>1</td>\n",
              "      <td>0</td>\n",
              "      <td>2</td>\n",
              "      <td>7.38</td>\n",
              "      <td>9.850</td>\n",
              "      <td>43</td>\n",
              "      <td>8.9981</td>\n",
              "    </tr>\n",
              "  </tbody>\n",
              "</table>\n",
              "</div>"
            ],
            "text/plain": [
              "              datetime  season  holiday  ...  atemp  humidity  windspeed\n",
              "0  2011-01-17 00:00:00       1        1  ...  9.850        47    15.0013\n",
              "1  2011-01-17 01:00:00       1        1  ...  9.850        44    12.9980\n",
              "2  2011-01-17 02:00:00       1        1  ...  8.335        43    16.9979\n",
              "3  2011-01-17 03:00:00       1        1  ...  9.090        43    12.9980\n",
              "4  2011-01-17 04:00:00       1        1  ...  9.850        43     8.9981\n",
              "\n",
              "[5 rows x 9 columns]"
            ]
          },
          "metadata": {
            "tags": []
          },
          "execution_count": 357
        }
      ]
    },
    {
      "cell_type": "code",
      "metadata": {
        "id": "6sYVuKSBQPek"
      },
      "source": [
        "# Everything that I had done prior to fitting my model, I have to do the exact same steps to my Test.csv \n",
        "# Before making changes lets duplcate the datetime column.\n",
        "test['date_time'] = test['datetime'] "
      ],
      "execution_count": 358,
      "outputs": []
    },
    {
      "cell_type": "code",
      "metadata": {
        "id": "b_SS-VXbrYPs"
      },
      "source": [
        "# Datetime column is important in this dataset, so lets figure out how to change it from an object datatype.\n",
        "test['datetime'] = pd.to_datetime(test['datetime'])"
      ],
      "execution_count": 359,
      "outputs": []
    },
    {
      "cell_type": "code",
      "metadata": {
        "id": "G3gwWhSArbde"
      },
      "source": [
        "# With the help of this article I understand how to split up the datetime column: \n",
        "# https://towardsdatascience.com/machine-learning-with-datetime-feature-engineering-predicting-healthcare-appointment-no-shows-5e4ca3a85f96\n",
        "\n",
        "test['ScheduledDay_year'] = test['datetime'].dt.year\n",
        "test['ScheduledDay_month'] = test['datetime'].dt.month\n",
        "test['ScheduledDay_week'] = test['datetime'].dt.isocalendar().week # got a future warning with dt.week so I have to include .isocalendar()\n",
        "test['ScheduledDay_day'] = test['datetime'].dt.day\n",
        "test['ScheduledDay_hour'] = test['datetime'].dt.hour\n",
        "test['ScheduledDay_minute'] = test['datetime'].dt.minute\n",
        "test['ScheduledDay_dayofweek'] = test['datetime'].dt.dayofweek"
      ],
      "execution_count": 360,
      "outputs": []
    },
    {
      "cell_type": "code",
      "metadata": {
        "colab": {
          "base_uri": "https://localhost:8080/"
        },
        "id": "MiSeWqZ-re9n",
        "outputId": "f221d7c8-689a-4004-ccc7-6a66dcab02b4"
      },
      "source": [
        "# I need to drop the datetime column here \n",
        "# This is when I noticed test.csv doesnt include the columns casual and registered. \n",
        "test.drop(columns = ['datetime'], inplace= True)\n",
        "\n",
        "# Check to see if it worked \n",
        "test.info()"
      ],
      "execution_count": 361,
      "outputs": [
        {
          "output_type": "stream",
          "text": [
            "<class 'pandas.core.frame.DataFrame'>\n",
            "RangeIndex: 1712 entries, 0 to 1711\n",
            "Data columns (total 16 columns):\n",
            " #   Column                  Non-Null Count  Dtype  \n",
            "---  ------                  --------------  -----  \n",
            " 0   season                  1712 non-null   int64  \n",
            " 1   holiday                 1712 non-null   int64  \n",
            " 2   workingday              1712 non-null   int64  \n",
            " 3   weather                 1712 non-null   int64  \n",
            " 4   temp                    1712 non-null   float64\n",
            " 5   atemp                   1712 non-null   float64\n",
            " 6   humidity                1712 non-null   int64  \n",
            " 7   windspeed               1712 non-null   float64\n",
            " 8   date_time               1712 non-null   object \n",
            " 9   ScheduledDay_year       1712 non-null   int64  \n",
            " 10  ScheduledDay_month      1712 non-null   int64  \n",
            " 11  ScheduledDay_week       1712 non-null   UInt32 \n",
            " 12  ScheduledDay_day        1712 non-null   int64  \n",
            " 13  ScheduledDay_hour       1712 non-null   int64  \n",
            " 14  ScheduledDay_minute     1712 non-null   int64  \n",
            " 15  ScheduledDay_dayofweek  1712 non-null   int64  \n",
            "dtypes: UInt32(1), float64(3), int64(11), object(1)\n",
            "memory usage: 209.1+ KB\n"
          ],
          "name": "stdout"
        }
      ]
    },
    {
      "cell_type": "code",
      "metadata": {
        "id": "Bzwje_r3rtIj"
      },
      "source": [
        "# Next step is to set the date_time to an index so it doesnt affect the model. \n",
        "test.set_index(['date_time'], inplace = True)"
      ],
      "execution_count": 362,
      "outputs": []
    },
    {
      "cell_type": "code",
      "metadata": {
        "id": "E-raht5Srv2Q"
      },
      "source": [
        "# Going to drop the Scheduled Day Week column since it wont work with the model \n",
        "test.drop(columns = 'ScheduledDay_week', inplace = True )"
      ],
      "execution_count": 363,
      "outputs": []
    },
    {
      "cell_type": "code",
      "metadata": {
        "colab": {
          "base_uri": "https://localhost:8080/",
          "height": 331
        },
        "id": "3yD3LE9zrys5",
        "outputId": "1c1041a4-2258-495e-acd0-ad6f1d2f27f9"
      },
      "source": [
        "# Check to see if all changes are in place. \n",
        "test.head()"
      ],
      "execution_count": 364,
      "outputs": [
        {
          "output_type": "execute_result",
          "data": {
            "text/html": [
              "<div>\n",
              "<style scoped>\n",
              "    .dataframe tbody tr th:only-of-type {\n",
              "        vertical-align: middle;\n",
              "    }\n",
              "\n",
              "    .dataframe tbody tr th {\n",
              "        vertical-align: top;\n",
              "    }\n",
              "\n",
              "    .dataframe thead th {\n",
              "        text-align: right;\n",
              "    }\n",
              "</style>\n",
              "<table border=\"1\" class=\"dataframe\">\n",
              "  <thead>\n",
              "    <tr style=\"text-align: right;\">\n",
              "      <th></th>\n",
              "      <th>season</th>\n",
              "      <th>holiday</th>\n",
              "      <th>workingday</th>\n",
              "      <th>weather</th>\n",
              "      <th>temp</th>\n",
              "      <th>atemp</th>\n",
              "      <th>humidity</th>\n",
              "      <th>windspeed</th>\n",
              "      <th>ScheduledDay_year</th>\n",
              "      <th>ScheduledDay_month</th>\n",
              "      <th>ScheduledDay_day</th>\n",
              "      <th>ScheduledDay_hour</th>\n",
              "      <th>ScheduledDay_minute</th>\n",
              "      <th>ScheduledDay_dayofweek</th>\n",
              "    </tr>\n",
              "    <tr>\n",
              "      <th>date_time</th>\n",
              "      <th></th>\n",
              "      <th></th>\n",
              "      <th></th>\n",
              "      <th></th>\n",
              "      <th></th>\n",
              "      <th></th>\n",
              "      <th></th>\n",
              "      <th></th>\n",
              "      <th></th>\n",
              "      <th></th>\n",
              "      <th></th>\n",
              "      <th></th>\n",
              "      <th></th>\n",
              "      <th></th>\n",
              "    </tr>\n",
              "  </thead>\n",
              "  <tbody>\n",
              "    <tr>\n",
              "      <th>2011-01-17 00:00:00</th>\n",
              "      <td>1</td>\n",
              "      <td>1</td>\n",
              "      <td>0</td>\n",
              "      <td>2</td>\n",
              "      <td>8.20</td>\n",
              "      <td>9.850</td>\n",
              "      <td>47</td>\n",
              "      <td>15.0013</td>\n",
              "      <td>2011</td>\n",
              "      <td>1</td>\n",
              "      <td>17</td>\n",
              "      <td>0</td>\n",
              "      <td>0</td>\n",
              "      <td>0</td>\n",
              "    </tr>\n",
              "    <tr>\n",
              "      <th>2011-01-17 01:00:00</th>\n",
              "      <td>1</td>\n",
              "      <td>1</td>\n",
              "      <td>0</td>\n",
              "      <td>2</td>\n",
              "      <td>8.20</td>\n",
              "      <td>9.850</td>\n",
              "      <td>44</td>\n",
              "      <td>12.9980</td>\n",
              "      <td>2011</td>\n",
              "      <td>1</td>\n",
              "      <td>17</td>\n",
              "      <td>1</td>\n",
              "      <td>0</td>\n",
              "      <td>0</td>\n",
              "    </tr>\n",
              "    <tr>\n",
              "      <th>2011-01-17 02:00:00</th>\n",
              "      <td>1</td>\n",
              "      <td>1</td>\n",
              "      <td>0</td>\n",
              "      <td>2</td>\n",
              "      <td>7.38</td>\n",
              "      <td>8.335</td>\n",
              "      <td>43</td>\n",
              "      <td>16.9979</td>\n",
              "      <td>2011</td>\n",
              "      <td>1</td>\n",
              "      <td>17</td>\n",
              "      <td>2</td>\n",
              "      <td>0</td>\n",
              "      <td>0</td>\n",
              "    </tr>\n",
              "    <tr>\n",
              "      <th>2011-01-17 03:00:00</th>\n",
              "      <td>1</td>\n",
              "      <td>1</td>\n",
              "      <td>0</td>\n",
              "      <td>2</td>\n",
              "      <td>7.38</td>\n",
              "      <td>9.090</td>\n",
              "      <td>43</td>\n",
              "      <td>12.9980</td>\n",
              "      <td>2011</td>\n",
              "      <td>1</td>\n",
              "      <td>17</td>\n",
              "      <td>3</td>\n",
              "      <td>0</td>\n",
              "      <td>0</td>\n",
              "    </tr>\n",
              "    <tr>\n",
              "      <th>2011-01-17 04:00:00</th>\n",
              "      <td>1</td>\n",
              "      <td>1</td>\n",
              "      <td>0</td>\n",
              "      <td>2</td>\n",
              "      <td>7.38</td>\n",
              "      <td>9.850</td>\n",
              "      <td>43</td>\n",
              "      <td>8.9981</td>\n",
              "      <td>2011</td>\n",
              "      <td>1</td>\n",
              "      <td>17</td>\n",
              "      <td>4</td>\n",
              "      <td>0</td>\n",
              "      <td>0</td>\n",
              "    </tr>\n",
              "  </tbody>\n",
              "</table>\n",
              "</div>"
            ],
            "text/plain": [
              "                     season  ...  ScheduledDay_dayofweek\n",
              "date_time                    ...                        \n",
              "2011-01-17 00:00:00       1  ...                       0\n",
              "2011-01-17 01:00:00       1  ...                       0\n",
              "2011-01-17 02:00:00       1  ...                       0\n",
              "2011-01-17 03:00:00       1  ...                       0\n",
              "2011-01-17 04:00:00       1  ...                       0\n",
              "\n",
              "[5 rows x 14 columns]"
            ]
          },
          "metadata": {
            "tags": []
          },
          "execution_count": 364
        }
      ]
    },
    {
      "cell_type": "code",
      "metadata": {
        "colab": {
          "base_uri": "https://localhost:8080/"
        },
        "id": "6r85X_oKVgng",
        "outputId": "d02dee33-24c1-4591-862c-0db0d85101d2"
      },
      "source": [
        "# Let's generate new predictions \n",
        "preds = gbc.predict(test)\n",
        "preds"
      ],
      "execution_count": 365,
      "outputs": [
        {
          "output_type": "execute_result",
          "data": {
            "text/plain": [
              "array([  4.53542202,  -3.01044166, -17.13679217, ..., 209.20803071,\n",
              "       170.27866659, 117.36667076])"
            ]
          },
          "metadata": {
            "tags": []
          },
          "execution_count": 365
        }
      ]
    },
    {
      "cell_type": "code",
      "metadata": {
        "id": "9UsGHbmzWtxy"
      },
      "source": [
        "# With my predictions I have to submit a file to the Kaggle Competition \n",
        "# This DataFrame has to be exact to what theyre asking for \n",
        "to_submit = pd.DataFrame({'datetime': test.index, 'count': preds})"
      ],
      "execution_count": 366,
      "outputs": []
    },
    {
      "cell_type": "code",
      "metadata": {
        "colab": {
          "base_uri": "https://localhost:8080/",
          "height": 197
        },
        "id": "LBBufHzyRkcO",
        "outputId": "2721dc9f-770a-452d-80de-638c0b0c6be4"
      },
      "source": [
        "# Check to see if it looks accurate \n",
        "to_submit.head()"
      ],
      "execution_count": 367,
      "outputs": [
        {
          "output_type": "execute_result",
          "data": {
            "text/html": [
              "<div>\n",
              "<style scoped>\n",
              "    .dataframe tbody tr th:only-of-type {\n",
              "        vertical-align: middle;\n",
              "    }\n",
              "\n",
              "    .dataframe tbody tr th {\n",
              "        vertical-align: top;\n",
              "    }\n",
              "\n",
              "    .dataframe thead th {\n",
              "        text-align: right;\n",
              "    }\n",
              "</style>\n",
              "<table border=\"1\" class=\"dataframe\">\n",
              "  <thead>\n",
              "    <tr style=\"text-align: right;\">\n",
              "      <th></th>\n",
              "      <th>datetime</th>\n",
              "      <th>count</th>\n",
              "    </tr>\n",
              "  </thead>\n",
              "  <tbody>\n",
              "    <tr>\n",
              "      <th>0</th>\n",
              "      <td>2011-01-17 00:00:00</td>\n",
              "      <td>4.535422</td>\n",
              "    </tr>\n",
              "    <tr>\n",
              "      <th>1</th>\n",
              "      <td>2011-01-17 01:00:00</td>\n",
              "      <td>-3.010442</td>\n",
              "    </tr>\n",
              "    <tr>\n",
              "      <th>2</th>\n",
              "      <td>2011-01-17 02:00:00</td>\n",
              "      <td>-17.136792</td>\n",
              "    </tr>\n",
              "    <tr>\n",
              "      <th>3</th>\n",
              "      <td>2011-01-17 03:00:00</td>\n",
              "      <td>-18.732908</td>\n",
              "    </tr>\n",
              "    <tr>\n",
              "      <th>4</th>\n",
              "      <td>2011-01-17 04:00:00</td>\n",
              "      <td>-19.780081</td>\n",
              "    </tr>\n",
              "  </tbody>\n",
              "</table>\n",
              "</div>"
            ],
            "text/plain": [
              "              datetime      count\n",
              "0  2011-01-17 00:00:00   4.535422\n",
              "1  2011-01-17 01:00:00  -3.010442\n",
              "2  2011-01-17 02:00:00 -17.136792\n",
              "3  2011-01-17 03:00:00 -18.732908\n",
              "4  2011-01-17 04:00:00 -19.780081"
            ]
          },
          "metadata": {
            "tags": []
          },
          "execution_count": 367
        }
      ]
    },
    {
      "cell_type": "code",
      "metadata": {
        "id": "IFlA6_9-RpRk"
      },
      "source": [
        "# Save this file and make sure to get rid of the index \n",
        "to_submit.to_csv('/content/drive/MyDrive/Coding Dojo/Week 10: Gradient Boosting Machines /submission.csv', index = False)"
      ],
      "execution_count": 368,
      "outputs": []
    }
  ]
}