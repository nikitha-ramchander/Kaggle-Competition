{
  "nbformat": 4,
  "nbformat_minor": 0,
  "metadata": {
    "colab": {
      "name": "KaggleCompetition.ipynb",
      "provenance": [],
      "collapsed_sections": [],
      "mount_file_id": "193Rq8PG-GaLsMVFDe6Nlmpy7GENzpGAA",
      "authorship_tag": "ABX9TyNGMANlS/typ+I3E8gShupi",
      "include_colab_link": true
    },
    "kernelspec": {
      "name": "python3",
      "display_name": "Python 3"
    },
    "language_info": {
      "name": "python"
    }
  },
  "cells": [
    {
      "cell_type": "markdown",
      "metadata": {
        "id": "view-in-github",
        "colab_type": "text"
      },
      "source": [
        "<a href=\"https://colab.research.google.com/github/nikitha-ramchander/Kaggle-Competition/blob/main/KaggleCompetition.ipynb\" target=\"_parent\"><img src=\"https://colab.research.google.com/assets/colab-badge.svg\" alt=\"Open In Colab\"/></a>"
      ]
    },
    {
      "cell_type": "markdown",
      "metadata": {
        "id": "bDYU5D7LlJHT"
      },
      "source": [
        "My first try competing in a kaggle competition! "
      ]
    },
    {
      "cell_type": "code",
      "metadata": {
        "id": "srn7zmtb-ZX3"
      },
      "source": [
        "# Imports \n",
        "import pandas as pd \n",
        "import numpy as np \n",
        "import matplotlib.pyplot as plt\n",
        "\n",
        "from sklearn.model_selection import train_test_split\n",
        "from sklearn.ensemble import GradientBoostingRegressor\n",
        "from sklearn.metrics import mean_squared_error"
      ],
      "execution_count": 369,
      "outputs": []
    },
    {
      "cell_type": "markdown",
      "metadata": {
        "id": "ir0UQNWRUrtV"
      },
      "source": [
        "#Train CSV\n",
        "https://www.kaggle.com/c/csce5300-competition/data"
      ]
    },
    {
      "cell_type": "code",
      "metadata": {
        "id": "ZyXtQ-kG-mDk",
        "colab": {
          "base_uri": "https://localhost:8080/",
          "height": 197
        },
        "outputId": "9b176af0-a3a8-4a93-e50d-c44e89863a87"
      },
      "source": [
        "# Load Train Data\n",
        "bike_share = pd.read_csv('/content/drive/MyDrive/Coding Dojo/Week 10: Gradient Boosting Machines /train_luc.csv')\n",
        "bike_share.head()"
      ],
      "execution_count": 370,
      "outputs": [
        {
          "output_type": "execute_result",
          "data": {
            "text/html": [
              "<div>\n",
              "<style scoped>\n",
              "    .dataframe tbody tr th:only-of-type {\n",
              "        vertical-align: middle;\n",
              "    }\n",
              "\n",
              "    .dataframe tbody tr th {\n",
              "        vertical-align: top;\n",
              "    }\n",
              "\n",
              "    .dataframe thead th {\n",
              "        text-align: right;\n",
              "    }\n",
              "</style>\n",
              "<table border=\"1\" class=\"dataframe\">\n",
              "  <thead>\n",
              "    <tr style=\"text-align: right;\">\n",
              "      <th></th>\n",
              "      <th>datetime</th>\n",
              "      <th>season</th>\n",
              "      <th>holiday</th>\n",
              "      <th>workingday</th>\n",
              "      <th>weather</th>\n",
              "      <th>temp</th>\n",
              "      <th>atemp</th>\n",
              "      <th>humidity</th>\n",
              "      <th>windspeed</th>\n",
              "      <th>casual</th>\n",
              "      <th>registered</th>\n",
              "      <th>count</th>\n",
              "    </tr>\n",
              "  </thead>\n",
              "  <tbody>\n",
              "    <tr>\n",
              "      <th>0</th>\n",
              "      <td>2011-01-01 00:00:00</td>\n",
              "      <td>1</td>\n",
              "      <td>0</td>\n",
              "      <td>0</td>\n",
              "      <td>1</td>\n",
              "      <td>9.84</td>\n",
              "      <td>14.395</td>\n",
              "      <td>81</td>\n",
              "      <td>0.0</td>\n",
              "      <td>3</td>\n",
              "      <td>13</td>\n",
              "      <td>16</td>\n",
              "    </tr>\n",
              "    <tr>\n",
              "      <th>1</th>\n",
              "      <td>2011-01-01 01:00:00</td>\n",
              "      <td>1</td>\n",
              "      <td>0</td>\n",
              "      <td>0</td>\n",
              "      <td>1</td>\n",
              "      <td>9.02</td>\n",
              "      <td>13.635</td>\n",
              "      <td>80</td>\n",
              "      <td>0.0</td>\n",
              "      <td>8</td>\n",
              "      <td>32</td>\n",
              "      <td>40</td>\n",
              "    </tr>\n",
              "    <tr>\n",
              "      <th>2</th>\n",
              "      <td>2011-01-01 02:00:00</td>\n",
              "      <td>1</td>\n",
              "      <td>0</td>\n",
              "      <td>0</td>\n",
              "      <td>1</td>\n",
              "      <td>9.02</td>\n",
              "      <td>13.635</td>\n",
              "      <td>80</td>\n",
              "      <td>0.0</td>\n",
              "      <td>5</td>\n",
              "      <td>27</td>\n",
              "      <td>32</td>\n",
              "    </tr>\n",
              "    <tr>\n",
              "      <th>3</th>\n",
              "      <td>2011-01-01 03:00:00</td>\n",
              "      <td>1</td>\n",
              "      <td>0</td>\n",
              "      <td>0</td>\n",
              "      <td>1</td>\n",
              "      <td>9.84</td>\n",
              "      <td>14.395</td>\n",
              "      <td>75</td>\n",
              "      <td>0.0</td>\n",
              "      <td>3</td>\n",
              "      <td>10</td>\n",
              "      <td>13</td>\n",
              "    </tr>\n",
              "    <tr>\n",
              "      <th>4</th>\n",
              "      <td>2011-01-01 04:00:00</td>\n",
              "      <td>1</td>\n",
              "      <td>0</td>\n",
              "      <td>0</td>\n",
              "      <td>1</td>\n",
              "      <td>9.84</td>\n",
              "      <td>14.395</td>\n",
              "      <td>75</td>\n",
              "      <td>0.0</td>\n",
              "      <td>0</td>\n",
              "      <td>1</td>\n",
              "      <td>1</td>\n",
              "    </tr>\n",
              "  </tbody>\n",
              "</table>\n",
              "</div>"
            ],
            "text/plain": [
              "              datetime  season  holiday  ...  casual  registered  count\n",
              "0  2011-01-01 00:00:00       1        0  ...       3          13     16\n",
              "1  2011-01-01 01:00:00       1        0  ...       8          32     40\n",
              "2  2011-01-01 02:00:00       1        0  ...       5          27     32\n",
              "3  2011-01-01 03:00:00       1        0  ...       3          10     13\n",
              "4  2011-01-01 04:00:00       1        0  ...       0           1      1\n",
              "\n",
              "[5 rows x 12 columns]"
            ]
          },
          "metadata": {
            "tags": []
          },
          "execution_count": 370
        }
      ]
    },
    {
      "cell_type": "code",
      "metadata": {
        "colab": {
          "base_uri": "https://localhost:8080/"
        },
        "id": "q1aQH0r0_PNd",
        "outputId": "2d85b082-9a57-481f-a5d0-c8b692911524"
      },
      "source": [
        "# Summary of DataFrame \n",
        "bike_share.info()"
      ],
      "execution_count": 371,
      "outputs": [
        {
          "output_type": "stream",
          "text": [
            "<class 'pandas.core.frame.DataFrame'>\n",
            "RangeIndex: 9174 entries, 0 to 9173\n",
            "Data columns (total 12 columns):\n",
            " #   Column      Non-Null Count  Dtype  \n",
            "---  ------      --------------  -----  \n",
            " 0   datetime    9174 non-null   object \n",
            " 1   season      9174 non-null   int64  \n",
            " 2   holiday     9174 non-null   int64  \n",
            " 3   workingday  9174 non-null   int64  \n",
            " 4   weather     9174 non-null   int64  \n",
            " 5   temp        9174 non-null   float64\n",
            " 6   atemp       9174 non-null   float64\n",
            " 7   humidity    9174 non-null   int64  \n",
            " 8   windspeed   9174 non-null   float64\n",
            " 9   casual      9174 non-null   int64  \n",
            " 10  registered  9174 non-null   int64  \n",
            " 11  count       9174 non-null   int64  \n",
            "dtypes: float64(3), int64(8), object(1)\n",
            "memory usage: 860.2+ KB\n"
          ],
          "name": "stdout"
        }
      ]
    },
    {
      "cell_type": "code",
      "metadata": {
        "colab": {
          "base_uri": "https://localhost:8080/"
        },
        "id": "WbXwhCVKAVUk",
        "outputId": "6a3b1b14-c1ca-473a-dfc3-a04e139e619c"
      },
      "source": [
        "# All datatypes are correct? \n",
        "bike_share.dtypes"
      ],
      "execution_count": 372,
      "outputs": [
        {
          "output_type": "execute_result",
          "data": {
            "text/plain": [
              "datetime       object\n",
              "season          int64\n",
              "holiday         int64\n",
              "workingday      int64\n",
              "weather         int64\n",
              "temp          float64\n",
              "atemp         float64\n",
              "humidity        int64\n",
              "windspeed     float64\n",
              "casual          int64\n",
              "registered      int64\n",
              "count           int64\n",
              "dtype: object"
            ]
          },
          "metadata": {
            "tags": []
          },
          "execution_count": 372
        }
      ]
    },
    {
      "cell_type": "code",
      "metadata": {
        "colab": {
          "base_uri": "https://localhost:8080/"
        },
        "id": "SsuMPncwB_AO",
        "outputId": "7fc6d54f-a753-47f0-dc8f-1c6084c111c4"
      },
      "source": [
        "# Missing values? \n",
        "bike_share.isnull().sum()"
      ],
      "execution_count": 373,
      "outputs": [
        {
          "output_type": "execute_result",
          "data": {
            "text/plain": [
              "datetime      0\n",
              "season        0\n",
              "holiday       0\n",
              "workingday    0\n",
              "weather       0\n",
              "temp          0\n",
              "atemp         0\n",
              "humidity      0\n",
              "windspeed     0\n",
              "casual        0\n",
              "registered    0\n",
              "count         0\n",
              "dtype: int64"
            ]
          },
          "metadata": {
            "tags": []
          },
          "execution_count": 373
        }
      ]
    },
    {
      "cell_type": "code",
      "metadata": {
        "colab": {
          "base_uri": "https://localhost:8080/"
        },
        "id": "CBJyMEaDCXjk",
        "outputId": "4a59dcaf-2b61-4f86-8fb9-15fa5bce8304"
      },
      "source": [
        "# Duplicated rows? \n",
        "bike_share.duplicated().any()"
      ],
      "execution_count": 374,
      "outputs": [
        {
          "output_type": "execute_result",
          "data": {
            "text/plain": [
              "False"
            ]
          },
          "metadata": {
            "tags": []
          },
          "execution_count": 374
        }
      ]
    },
    {
      "cell_type": "code",
      "metadata": {
        "id": "y_HNXljpNWbS"
      },
      "source": [
        "# Before making changes lets duplcate the datetime column.\n",
        "bike_share['date_time'] = bike_share['datetime'] "
      ],
      "execution_count": 375,
      "outputs": []
    },
    {
      "cell_type": "code",
      "metadata": {
        "colab": {
          "base_uri": "https://localhost:8080/"
        },
        "id": "l_XDsX_uNv1Z",
        "outputId": "14a46655-11b3-4ca5-c622-1822ae279d99"
      },
      "source": [
        "# Check to see if it worked. \n",
        "bike_share.info()"
      ],
      "execution_count": 376,
      "outputs": [
        {
          "output_type": "stream",
          "text": [
            "<class 'pandas.core.frame.DataFrame'>\n",
            "RangeIndex: 9174 entries, 0 to 9173\n",
            "Data columns (total 13 columns):\n",
            " #   Column      Non-Null Count  Dtype  \n",
            "---  ------      --------------  -----  \n",
            " 0   datetime    9174 non-null   object \n",
            " 1   season      9174 non-null   int64  \n",
            " 2   holiday     9174 non-null   int64  \n",
            " 3   workingday  9174 non-null   int64  \n",
            " 4   weather     9174 non-null   int64  \n",
            " 5   temp        9174 non-null   float64\n",
            " 6   atemp       9174 non-null   float64\n",
            " 7   humidity    9174 non-null   int64  \n",
            " 8   windspeed   9174 non-null   float64\n",
            " 9   casual      9174 non-null   int64  \n",
            " 10  registered  9174 non-null   int64  \n",
            " 11  count       9174 non-null   int64  \n",
            " 12  date_time   9174 non-null   object \n",
            "dtypes: float64(3), int64(8), object(2)\n",
            "memory usage: 931.9+ KB\n"
          ],
          "name": "stdout"
        }
      ]
    },
    {
      "cell_type": "code",
      "metadata": {
        "id": "4g7x2_-eRORD"
      },
      "source": [
        "# Datetime column is important in this dataset, so lets figure out how to change it from an object datatype.\n",
        "bike_share['datetime'] = pd.to_datetime(bike_share['datetime'])"
      ],
      "execution_count": 377,
      "outputs": []
    },
    {
      "cell_type": "code",
      "metadata": {
        "id": "3CIOn4lkMZqj"
      },
      "source": [
        "# With the help of this article I understand how to split up the datetime column: \n",
        "# https://towardsdatascience.com/machine-learning-with-datetime-feature-engineering-predicting-healthcare-appointment-no-shows-5e4ca3a85f96\n",
        "\n",
        "bike_share['ScheduledDay_year'] = bike_share['datetime'].dt.year\n",
        "bike_share['ScheduledDay_month'] = bike_share['datetime'].dt.month\n",
        "bike_share['ScheduledDay_week'] = bike_share['datetime'].dt.isocalendar().week # got a future warning with dt.week so I have to include .isocalendar()\n",
        "bike_share['ScheduledDay_day'] = bike_share['datetime'].dt.day\n",
        "bike_share['ScheduledDay_hour'] = bike_share['datetime'].dt.hour\n",
        "bike_share['ScheduledDay_minute'] = bike_share['datetime'].dt.minute\n",
        "bike_share['ScheduledDay_dayofweek'] = bike_share['datetime'].dt.dayofweek"
      ],
      "execution_count": 378,
      "outputs": []
    },
    {
      "cell_type": "code",
      "metadata": {
        "colab": {
          "base_uri": "https://localhost:8080/"
        },
        "id": "5Yk9W2giR_Ec",
        "outputId": "b69907a0-2398-408e-a806-072ff964ac1d"
      },
      "source": [
        "# I need to drop the datetime column here \n",
        "# But when I looked at the test.csv I noticed they didnt include columns casual and registered. \n",
        "# For me to run a model on .predict I need to drop these columns in this dataset\n",
        "bike_share.drop(columns = ['datetime', 'casual', 'registered'], inplace= True)\n",
        "\n",
        "# Check to see if it worked \n",
        "bike_share.info()"
      ],
      "execution_count": 379,
      "outputs": [
        {
          "output_type": "stream",
          "text": [
            "<class 'pandas.core.frame.DataFrame'>\n",
            "RangeIndex: 9174 entries, 0 to 9173\n",
            "Data columns (total 17 columns):\n",
            " #   Column                  Non-Null Count  Dtype  \n",
            "---  ------                  --------------  -----  \n",
            " 0   season                  9174 non-null   int64  \n",
            " 1   holiday                 9174 non-null   int64  \n",
            " 2   workingday              9174 non-null   int64  \n",
            " 3   weather                 9174 non-null   int64  \n",
            " 4   temp                    9174 non-null   float64\n",
            " 5   atemp                   9174 non-null   float64\n",
            " 6   humidity                9174 non-null   int64  \n",
            " 7   windspeed               9174 non-null   float64\n",
            " 8   count                   9174 non-null   int64  \n",
            " 9   date_time               9174 non-null   object \n",
            " 10  ScheduledDay_year       9174 non-null   int64  \n",
            " 11  ScheduledDay_month      9174 non-null   int64  \n",
            " 12  ScheduledDay_week       9174 non-null   UInt32 \n",
            " 13  ScheduledDay_day        9174 non-null   int64  \n",
            " 14  ScheduledDay_hour       9174 non-null   int64  \n",
            " 15  ScheduledDay_minute     9174 non-null   int64  \n",
            " 16  ScheduledDay_dayofweek  9174 non-null   int64  \n",
            "dtypes: UInt32(1), float64(3), int64(12), object(1)\n",
            "memory usage: 1.2+ MB\n"
          ],
          "name": "stdout"
        }
      ]
    },
    {
      "cell_type": "code",
      "metadata": {
        "id": "JPtzsm0OPs9J"
      },
      "source": [
        "# Next step is to set the date_time to an index so it doesnt affect the model. \n",
        "bike_share.set_index(['date_time'], inplace = True)"
      ],
      "execution_count": 380,
      "outputs": []
    },
    {
      "cell_type": "code",
      "metadata": {
        "id": "klDlCJSXpTQf"
      },
      "source": [
        "# Going to drop the Scheduled Day Week column since it wont work with the model \n",
        "bike_share.drop(columns = 'ScheduledDay_week', inplace = True )"
      ],
      "execution_count": 381,
      "outputs": []
    },
    {
      "cell_type": "code",
      "metadata": {
        "colab": {
          "base_uri": "https://localhost:8080/",
          "height": 331
        },
        "id": "6lGUu6mCP2SJ",
        "outputId": "e2f70635-fbf4-45b8-ded6-343480423a9b"
      },
      "source": [
        "# Check to see if all changes are in place. \n",
        "bike_share.head()"
      ],
      "execution_count": 382,
      "outputs": [
        {
          "output_type": "execute_result",
          "data": {
            "text/html": [
              "<div>\n",
              "<style scoped>\n",
              "    .dataframe tbody tr th:only-of-type {\n",
              "        vertical-align: middle;\n",
              "    }\n",
              "\n",
              "    .dataframe tbody tr th {\n",
              "        vertical-align: top;\n",
              "    }\n",
              "\n",
              "    .dataframe thead th {\n",
              "        text-align: right;\n",
              "    }\n",
              "</style>\n",
              "<table border=\"1\" class=\"dataframe\">\n",
              "  <thead>\n",
              "    <tr style=\"text-align: right;\">\n",
              "      <th></th>\n",
              "      <th>season</th>\n",
              "      <th>holiday</th>\n",
              "      <th>workingday</th>\n",
              "      <th>weather</th>\n",
              "      <th>temp</th>\n",
              "      <th>atemp</th>\n",
              "      <th>humidity</th>\n",
              "      <th>windspeed</th>\n",
              "      <th>count</th>\n",
              "      <th>ScheduledDay_year</th>\n",
              "      <th>ScheduledDay_month</th>\n",
              "      <th>ScheduledDay_day</th>\n",
              "      <th>ScheduledDay_hour</th>\n",
              "      <th>ScheduledDay_minute</th>\n",
              "      <th>ScheduledDay_dayofweek</th>\n",
              "    </tr>\n",
              "    <tr>\n",
              "      <th>date_time</th>\n",
              "      <th></th>\n",
              "      <th></th>\n",
              "      <th></th>\n",
              "      <th></th>\n",
              "      <th></th>\n",
              "      <th></th>\n",
              "      <th></th>\n",
              "      <th></th>\n",
              "      <th></th>\n",
              "      <th></th>\n",
              "      <th></th>\n",
              "      <th></th>\n",
              "      <th></th>\n",
              "      <th></th>\n",
              "      <th></th>\n",
              "    </tr>\n",
              "  </thead>\n",
              "  <tbody>\n",
              "    <tr>\n",
              "      <th>2011-01-01 00:00:00</th>\n",
              "      <td>1</td>\n",
              "      <td>0</td>\n",
              "      <td>0</td>\n",
              "      <td>1</td>\n",
              "      <td>9.84</td>\n",
              "      <td>14.395</td>\n",
              "      <td>81</td>\n",
              "      <td>0.0</td>\n",
              "      <td>16</td>\n",
              "      <td>2011</td>\n",
              "      <td>1</td>\n",
              "      <td>1</td>\n",
              "      <td>0</td>\n",
              "      <td>0</td>\n",
              "      <td>5</td>\n",
              "    </tr>\n",
              "    <tr>\n",
              "      <th>2011-01-01 01:00:00</th>\n",
              "      <td>1</td>\n",
              "      <td>0</td>\n",
              "      <td>0</td>\n",
              "      <td>1</td>\n",
              "      <td>9.02</td>\n",
              "      <td>13.635</td>\n",
              "      <td>80</td>\n",
              "      <td>0.0</td>\n",
              "      <td>40</td>\n",
              "      <td>2011</td>\n",
              "      <td>1</td>\n",
              "      <td>1</td>\n",
              "      <td>1</td>\n",
              "      <td>0</td>\n",
              "      <td>5</td>\n",
              "    </tr>\n",
              "    <tr>\n",
              "      <th>2011-01-01 02:00:00</th>\n",
              "      <td>1</td>\n",
              "      <td>0</td>\n",
              "      <td>0</td>\n",
              "      <td>1</td>\n",
              "      <td>9.02</td>\n",
              "      <td>13.635</td>\n",
              "      <td>80</td>\n",
              "      <td>0.0</td>\n",
              "      <td>32</td>\n",
              "      <td>2011</td>\n",
              "      <td>1</td>\n",
              "      <td>1</td>\n",
              "      <td>2</td>\n",
              "      <td>0</td>\n",
              "      <td>5</td>\n",
              "    </tr>\n",
              "    <tr>\n",
              "      <th>2011-01-01 03:00:00</th>\n",
              "      <td>1</td>\n",
              "      <td>0</td>\n",
              "      <td>0</td>\n",
              "      <td>1</td>\n",
              "      <td>9.84</td>\n",
              "      <td>14.395</td>\n",
              "      <td>75</td>\n",
              "      <td>0.0</td>\n",
              "      <td>13</td>\n",
              "      <td>2011</td>\n",
              "      <td>1</td>\n",
              "      <td>1</td>\n",
              "      <td>3</td>\n",
              "      <td>0</td>\n",
              "      <td>5</td>\n",
              "    </tr>\n",
              "    <tr>\n",
              "      <th>2011-01-01 04:00:00</th>\n",
              "      <td>1</td>\n",
              "      <td>0</td>\n",
              "      <td>0</td>\n",
              "      <td>1</td>\n",
              "      <td>9.84</td>\n",
              "      <td>14.395</td>\n",
              "      <td>75</td>\n",
              "      <td>0.0</td>\n",
              "      <td>1</td>\n",
              "      <td>2011</td>\n",
              "      <td>1</td>\n",
              "      <td>1</td>\n",
              "      <td>4</td>\n",
              "      <td>0</td>\n",
              "      <td>5</td>\n",
              "    </tr>\n",
              "  </tbody>\n",
              "</table>\n",
              "</div>"
            ],
            "text/plain": [
              "                     season  ...  ScheduledDay_dayofweek\n",
              "date_time                    ...                        \n",
              "2011-01-01 00:00:00       1  ...                       5\n",
              "2011-01-01 01:00:00       1  ...                       5\n",
              "2011-01-01 02:00:00       1  ...                       5\n",
              "2011-01-01 03:00:00       1  ...                       5\n",
              "2011-01-01 04:00:00       1  ...                       5\n",
              "\n",
              "[5 rows x 15 columns]"
            ]
          },
          "metadata": {
            "tags": []
          },
          "execution_count": 382
        }
      ]
    },
    {
      "cell_type": "markdown",
      "metadata": {
        "id": "pGJw2QOzpZYE"
      },
      "source": [
        "# Let's start modeling"
      ]
    },
    {
      "cell_type": "code",
      "metadata": {
        "id": "hibcsfeOEfcy"
      },
      "source": [
        "# Split into features matrix and target vector \n",
        "X = bike_share.drop(columns= ['count'])\n",
        "y = bike_share['count']"
      ],
      "execution_count": 383,
      "outputs": []
    },
    {
      "cell_type": "code",
      "metadata": {
        "colab": {
          "base_uri": "https://localhost:8080/"
        },
        "id": "LLGx0b__IyzR",
        "outputId": "bc9abc27-e367-4850-bae5-3b8eb2bd5ed0"
      },
      "source": [
        "# 2-dimensional \n",
        "X.shape"
      ],
      "execution_count": 384,
      "outputs": [
        {
          "output_type": "execute_result",
          "data": {
            "text/plain": [
              "(9174, 14)"
            ]
          },
          "metadata": {
            "tags": []
          },
          "execution_count": 384
        }
      ]
    },
    {
      "cell_type": "code",
      "metadata": {
        "colab": {
          "base_uri": "https://localhost:8080/"
        },
        "id": "_dPe7gu7I2XO",
        "outputId": "7fdcba53-9dca-47ae-ff82-e6f635d8a359"
      },
      "source": [
        "# 1-dimensional \n",
        "y.shape"
      ],
      "execution_count": 385,
      "outputs": [
        {
          "output_type": "execute_result",
          "data": {
            "text/plain": [
              "(9174,)"
            ]
          },
          "metadata": {
            "tags": []
          },
          "execution_count": 385
        }
      ]
    },
    {
      "cell_type": "code",
      "metadata": {
        "id": "93m5JkMuGpZz"
      },
      "source": [
        "# Train Test Split\n",
        "X_train, X_test, y_train, y_test = train_test_split(X, y,\n",
        "                                                    test_size = .3,\n",
        "                                                    random_state = 42)"
      ],
      "execution_count": 386,
      "outputs": []
    },
    {
      "cell_type": "code",
      "metadata": {
        "colab": {
          "base_uri": "https://localhost:8080/"
        },
        "id": "XMUBj9xyI3po",
        "outputId": "02802806-81b6-45e6-9f4a-d21a9dccb441"
      },
      "source": [
        "# Instantiate and fit gradient boosting classifier\n",
        "gbr = GradientBoostingRegressor()\n",
        "gbr.fit(X_train, y_train)"
      ],
      "execution_count": 387,
      "outputs": [
        {
          "output_type": "execute_result",
          "data": {
            "text/plain": [
              "GradientBoostingRegressor(alpha=0.9, ccp_alpha=0.0, criterion='friedman_mse',\n",
              "                          init=None, learning_rate=0.1, loss='ls', max_depth=3,\n",
              "                          max_features=None, max_leaf_nodes=None,\n",
              "                          min_impurity_decrease=0.0, min_impurity_split=None,\n",
              "                          min_samples_leaf=1, min_samples_split=2,\n",
              "                          min_weight_fraction_leaf=0.0, n_estimators=100,\n",
              "                          n_iter_no_change=None, presort='deprecated',\n",
              "                          random_state=None, subsample=1.0, tol=0.0001,\n",
              "                          validation_fraction=0.1, verbose=0, warm_start=False)"
            ]
          },
          "metadata": {
            "tags": []
          },
          "execution_count": 387
        }
      ]
    },
    {
      "cell_type": "code",
      "metadata": {
        "colab": {
          "base_uri": "https://localhost:8080/"
        },
        "id": "3bVyzCD6JJBu",
        "outputId": "d1742c1b-c5da-489a-d01f-7f4306246d1e"
      },
      "source": [
        "# Calculate \n",
        "print('Training R^2:', gbr.score(X_train, y_train))\n",
        "print('Testing R^2:', gbr.score(X_test, y_test))"
      ],
      "execution_count": 388,
      "outputs": [
        {
          "output_type": "stream",
          "text": [
            "Training R^2: 0.8760712909651382\n",
            "Testing R^2: 0.868948184803543\n"
          ],
          "name": "stdout"
        }
      ]
    },
    {
      "cell_type": "code",
      "metadata": {
        "colab": {
          "base_uri": "https://localhost:8080/"
        },
        "id": "hAiq6pOmUIk5",
        "outputId": "a656cbc2-61c4-4481-8551-d09a4ac517b0"
      },
      "source": [
        "# This competition needs RMSE: Root Mean Squared Error score \n",
        "print('Testing RMSE: ', np.sqrt(mean_squared_error(y_test, gbr.predict(X_test))))"
      ],
      "execution_count": 389,
      "outputs": [
        {
          "output_type": "stream",
          "text": [
            "Testing RMSE:  66.03712575442881\n"
          ],
          "name": "stdout"
        }
      ]
    },
    {
      "cell_type": "markdown",
      "metadata": {
        "id": "Uk861oDgUMzN"
      },
      "source": [
        "#Test CSV"
      ]
    },
    {
      "cell_type": "code",
      "metadata": {
        "colab": {
          "base_uri": "https://localhost:8080/",
          "height": 197
        },
        "id": "K2UeTEljUsBC",
        "outputId": "a9522701-9748-4f71-b263-7a528f704320"
      },
      "source": [
        "# Load Test Data \n",
        "test = pd.read_csv('/content/drive/MyDrive/Coding Dojo/Week 10: Gradient Boosting Machines /test_luc.csv')\n",
        "test.head()"
      ],
      "execution_count": 390,
      "outputs": [
        {
          "output_type": "execute_result",
          "data": {
            "text/html": [
              "<div>\n",
              "<style scoped>\n",
              "    .dataframe tbody tr th:only-of-type {\n",
              "        vertical-align: middle;\n",
              "    }\n",
              "\n",
              "    .dataframe tbody tr th {\n",
              "        vertical-align: top;\n",
              "    }\n",
              "\n",
              "    .dataframe thead th {\n",
              "        text-align: right;\n",
              "    }\n",
              "</style>\n",
              "<table border=\"1\" class=\"dataframe\">\n",
              "  <thead>\n",
              "    <tr style=\"text-align: right;\">\n",
              "      <th></th>\n",
              "      <th>datetime</th>\n",
              "      <th>season</th>\n",
              "      <th>holiday</th>\n",
              "      <th>workingday</th>\n",
              "      <th>weather</th>\n",
              "      <th>temp</th>\n",
              "      <th>atemp</th>\n",
              "      <th>humidity</th>\n",
              "      <th>windspeed</th>\n",
              "    </tr>\n",
              "  </thead>\n",
              "  <tbody>\n",
              "    <tr>\n",
              "      <th>0</th>\n",
              "      <td>2011-01-17 00:00:00</td>\n",
              "      <td>1</td>\n",
              "      <td>1</td>\n",
              "      <td>0</td>\n",
              "      <td>2</td>\n",
              "      <td>8.20</td>\n",
              "      <td>9.850</td>\n",
              "      <td>47</td>\n",
              "      <td>15.0013</td>\n",
              "    </tr>\n",
              "    <tr>\n",
              "      <th>1</th>\n",
              "      <td>2011-01-17 01:00:00</td>\n",
              "      <td>1</td>\n",
              "      <td>1</td>\n",
              "      <td>0</td>\n",
              "      <td>2</td>\n",
              "      <td>8.20</td>\n",
              "      <td>9.850</td>\n",
              "      <td>44</td>\n",
              "      <td>12.9980</td>\n",
              "    </tr>\n",
              "    <tr>\n",
              "      <th>2</th>\n",
              "      <td>2011-01-17 02:00:00</td>\n",
              "      <td>1</td>\n",
              "      <td>1</td>\n",
              "      <td>0</td>\n",
              "      <td>2</td>\n",
              "      <td>7.38</td>\n",
              "      <td>8.335</td>\n",
              "      <td>43</td>\n",
              "      <td>16.9979</td>\n",
              "    </tr>\n",
              "    <tr>\n",
              "      <th>3</th>\n",
              "      <td>2011-01-17 03:00:00</td>\n",
              "      <td>1</td>\n",
              "      <td>1</td>\n",
              "      <td>0</td>\n",
              "      <td>2</td>\n",
              "      <td>7.38</td>\n",
              "      <td>9.090</td>\n",
              "      <td>43</td>\n",
              "      <td>12.9980</td>\n",
              "    </tr>\n",
              "    <tr>\n",
              "      <th>4</th>\n",
              "      <td>2011-01-17 04:00:00</td>\n",
              "      <td>1</td>\n",
              "      <td>1</td>\n",
              "      <td>0</td>\n",
              "      <td>2</td>\n",
              "      <td>7.38</td>\n",
              "      <td>9.850</td>\n",
              "      <td>43</td>\n",
              "      <td>8.9981</td>\n",
              "    </tr>\n",
              "  </tbody>\n",
              "</table>\n",
              "</div>"
            ],
            "text/plain": [
              "              datetime  season  holiday  ...  atemp  humidity  windspeed\n",
              "0  2011-01-17 00:00:00       1        1  ...  9.850        47    15.0013\n",
              "1  2011-01-17 01:00:00       1        1  ...  9.850        44    12.9980\n",
              "2  2011-01-17 02:00:00       1        1  ...  8.335        43    16.9979\n",
              "3  2011-01-17 03:00:00       1        1  ...  9.090        43    12.9980\n",
              "4  2011-01-17 04:00:00       1        1  ...  9.850        43     8.9981\n",
              "\n",
              "[5 rows x 9 columns]"
            ]
          },
          "metadata": {
            "tags": []
          },
          "execution_count": 390
        }
      ]
    },
    {
      "cell_type": "code",
      "metadata": {
        "id": "6sYVuKSBQPek"
      },
      "source": [
        "# Everything that I had done prior to fitting my model, I have to do the exact same steps to my Test.csv \n",
        "# Before making changes lets duplcate the datetime column.\n",
        "test['date_time'] = test['datetime'] "
      ],
      "execution_count": 391,
      "outputs": []
    },
    {
      "cell_type": "code",
      "metadata": {
        "id": "b_SS-VXbrYPs"
      },
      "source": [
        "# Datetime column is important in this dataset, so lets figure out how to change it from an object datatype.\n",
        "test['datetime'] = pd.to_datetime(test['datetime'])"
      ],
      "execution_count": 392,
      "outputs": []
    },
    {
      "cell_type": "code",
      "metadata": {
        "id": "G3gwWhSArbde"
      },
      "source": [
        "# With the help of this article I understand how to split up the datetime column: \n",
        "# https://towardsdatascience.com/machine-learning-with-datetime-feature-engineering-predicting-healthcare-appointment-no-shows-5e4ca3a85f96\n",
        "\n",
        "test['ScheduledDay_year'] = test['datetime'].dt.year\n",
        "test['ScheduledDay_month'] = test['datetime'].dt.month\n",
        "test['ScheduledDay_week'] = test['datetime'].dt.isocalendar().week # got a future warning with dt.week so I have to include .isocalendar()\n",
        "test['ScheduledDay_day'] = test['datetime'].dt.day\n",
        "test['ScheduledDay_hour'] = test['datetime'].dt.hour\n",
        "test['ScheduledDay_minute'] = test['datetime'].dt.minute\n",
        "test['ScheduledDay_dayofweek'] = test['datetime'].dt.dayofweek"
      ],
      "execution_count": 393,
      "outputs": []
    },
    {
      "cell_type": "code",
      "metadata": {
        "colab": {
          "base_uri": "https://localhost:8080/"
        },
        "id": "MiSeWqZ-re9n",
        "outputId": "f910aadb-7cf5-4e09-ea22-e19139c11540"
      },
      "source": [
        "# I need to drop the datetime column here \n",
        "# This is when I noticed test.csv doesnt include the columns casual and registered. \n",
        "test.drop(columns = ['datetime'], inplace= True)\n",
        "\n",
        "# Check to see if it worked \n",
        "test.info()"
      ],
      "execution_count": 394,
      "outputs": [
        {
          "output_type": "stream",
          "text": [
            "<class 'pandas.core.frame.DataFrame'>\n",
            "RangeIndex: 1712 entries, 0 to 1711\n",
            "Data columns (total 16 columns):\n",
            " #   Column                  Non-Null Count  Dtype  \n",
            "---  ------                  --------------  -----  \n",
            " 0   season                  1712 non-null   int64  \n",
            " 1   holiday                 1712 non-null   int64  \n",
            " 2   workingday              1712 non-null   int64  \n",
            " 3   weather                 1712 non-null   int64  \n",
            " 4   temp                    1712 non-null   float64\n",
            " 5   atemp                   1712 non-null   float64\n",
            " 6   humidity                1712 non-null   int64  \n",
            " 7   windspeed               1712 non-null   float64\n",
            " 8   date_time               1712 non-null   object \n",
            " 9   ScheduledDay_year       1712 non-null   int64  \n",
            " 10  ScheduledDay_month      1712 non-null   int64  \n",
            " 11  ScheduledDay_week       1712 non-null   UInt32 \n",
            " 12  ScheduledDay_day        1712 non-null   int64  \n",
            " 13  ScheduledDay_hour       1712 non-null   int64  \n",
            " 14  ScheduledDay_minute     1712 non-null   int64  \n",
            " 15  ScheduledDay_dayofweek  1712 non-null   int64  \n",
            "dtypes: UInt32(1), float64(3), int64(11), object(1)\n",
            "memory usage: 209.1+ KB\n"
          ],
          "name": "stdout"
        }
      ]
    },
    {
      "cell_type": "code",
      "metadata": {
        "id": "Bzwje_r3rtIj"
      },
      "source": [
        "# Next step is to set the date_time to an index so it doesnt affect the model. \n",
        "test.set_index(['date_time'], inplace = True)"
      ],
      "execution_count": 395,
      "outputs": []
    },
    {
      "cell_type": "code",
      "metadata": {
        "id": "E-raht5Srv2Q"
      },
      "source": [
        "# Going to drop the Scheduled Day Week column since it wont work with the model \n",
        "test.drop(columns = 'ScheduledDay_week', inplace = True )"
      ],
      "execution_count": 396,
      "outputs": []
    },
    {
      "cell_type": "code",
      "metadata": {
        "colab": {
          "base_uri": "https://localhost:8080/",
          "height": 331
        },
        "id": "3yD3LE9zrys5",
        "outputId": "edba7d99-22be-4751-d177-31668be822fb"
      },
      "source": [
        "# Check to see if all changes are in place. \n",
        "test.head()"
      ],
      "execution_count": 397,
      "outputs": [
        {
          "output_type": "execute_result",
          "data": {
            "text/html": [
              "<div>\n",
              "<style scoped>\n",
              "    .dataframe tbody tr th:only-of-type {\n",
              "        vertical-align: middle;\n",
              "    }\n",
              "\n",
              "    .dataframe tbody tr th {\n",
              "        vertical-align: top;\n",
              "    }\n",
              "\n",
              "    .dataframe thead th {\n",
              "        text-align: right;\n",
              "    }\n",
              "</style>\n",
              "<table border=\"1\" class=\"dataframe\">\n",
              "  <thead>\n",
              "    <tr style=\"text-align: right;\">\n",
              "      <th></th>\n",
              "      <th>season</th>\n",
              "      <th>holiday</th>\n",
              "      <th>workingday</th>\n",
              "      <th>weather</th>\n",
              "      <th>temp</th>\n",
              "      <th>atemp</th>\n",
              "      <th>humidity</th>\n",
              "      <th>windspeed</th>\n",
              "      <th>ScheduledDay_year</th>\n",
              "      <th>ScheduledDay_month</th>\n",
              "      <th>ScheduledDay_day</th>\n",
              "      <th>ScheduledDay_hour</th>\n",
              "      <th>ScheduledDay_minute</th>\n",
              "      <th>ScheduledDay_dayofweek</th>\n",
              "    </tr>\n",
              "    <tr>\n",
              "      <th>date_time</th>\n",
              "      <th></th>\n",
              "      <th></th>\n",
              "      <th></th>\n",
              "      <th></th>\n",
              "      <th></th>\n",
              "      <th></th>\n",
              "      <th></th>\n",
              "      <th></th>\n",
              "      <th></th>\n",
              "      <th></th>\n",
              "      <th></th>\n",
              "      <th></th>\n",
              "      <th></th>\n",
              "      <th></th>\n",
              "    </tr>\n",
              "  </thead>\n",
              "  <tbody>\n",
              "    <tr>\n",
              "      <th>2011-01-17 00:00:00</th>\n",
              "      <td>1</td>\n",
              "      <td>1</td>\n",
              "      <td>0</td>\n",
              "      <td>2</td>\n",
              "      <td>8.20</td>\n",
              "      <td>9.850</td>\n",
              "      <td>47</td>\n",
              "      <td>15.0013</td>\n",
              "      <td>2011</td>\n",
              "      <td>1</td>\n",
              "      <td>17</td>\n",
              "      <td>0</td>\n",
              "      <td>0</td>\n",
              "      <td>0</td>\n",
              "    </tr>\n",
              "    <tr>\n",
              "      <th>2011-01-17 01:00:00</th>\n",
              "      <td>1</td>\n",
              "      <td>1</td>\n",
              "      <td>0</td>\n",
              "      <td>2</td>\n",
              "      <td>8.20</td>\n",
              "      <td>9.850</td>\n",
              "      <td>44</td>\n",
              "      <td>12.9980</td>\n",
              "      <td>2011</td>\n",
              "      <td>1</td>\n",
              "      <td>17</td>\n",
              "      <td>1</td>\n",
              "      <td>0</td>\n",
              "      <td>0</td>\n",
              "    </tr>\n",
              "    <tr>\n",
              "      <th>2011-01-17 02:00:00</th>\n",
              "      <td>1</td>\n",
              "      <td>1</td>\n",
              "      <td>0</td>\n",
              "      <td>2</td>\n",
              "      <td>7.38</td>\n",
              "      <td>8.335</td>\n",
              "      <td>43</td>\n",
              "      <td>16.9979</td>\n",
              "      <td>2011</td>\n",
              "      <td>1</td>\n",
              "      <td>17</td>\n",
              "      <td>2</td>\n",
              "      <td>0</td>\n",
              "      <td>0</td>\n",
              "    </tr>\n",
              "    <tr>\n",
              "      <th>2011-01-17 03:00:00</th>\n",
              "      <td>1</td>\n",
              "      <td>1</td>\n",
              "      <td>0</td>\n",
              "      <td>2</td>\n",
              "      <td>7.38</td>\n",
              "      <td>9.090</td>\n",
              "      <td>43</td>\n",
              "      <td>12.9980</td>\n",
              "      <td>2011</td>\n",
              "      <td>1</td>\n",
              "      <td>17</td>\n",
              "      <td>3</td>\n",
              "      <td>0</td>\n",
              "      <td>0</td>\n",
              "    </tr>\n",
              "    <tr>\n",
              "      <th>2011-01-17 04:00:00</th>\n",
              "      <td>1</td>\n",
              "      <td>1</td>\n",
              "      <td>0</td>\n",
              "      <td>2</td>\n",
              "      <td>7.38</td>\n",
              "      <td>9.850</td>\n",
              "      <td>43</td>\n",
              "      <td>8.9981</td>\n",
              "      <td>2011</td>\n",
              "      <td>1</td>\n",
              "      <td>17</td>\n",
              "      <td>4</td>\n",
              "      <td>0</td>\n",
              "      <td>0</td>\n",
              "    </tr>\n",
              "  </tbody>\n",
              "</table>\n",
              "</div>"
            ],
            "text/plain": [
              "                     season  ...  ScheduledDay_dayofweek\n",
              "date_time                    ...                        \n",
              "2011-01-17 00:00:00       1  ...                       0\n",
              "2011-01-17 01:00:00       1  ...                       0\n",
              "2011-01-17 02:00:00       1  ...                       0\n",
              "2011-01-17 03:00:00       1  ...                       0\n",
              "2011-01-17 04:00:00       1  ...                       0\n",
              "\n",
              "[5 rows x 14 columns]"
            ]
          },
          "metadata": {
            "tags": []
          },
          "execution_count": 397
        }
      ]
    },
    {
      "cell_type": "code",
      "metadata": {
        "colab": {
          "base_uri": "https://localhost:8080/"
        },
        "id": "6r85X_oKVgng",
        "outputId": "7fc11aa9-8207-4d5e-f947-f0257c60f7e4"
      },
      "source": [
        "# Let's generate new predictions \n",
        "preds = gbr.predict(test)\n",
        "preds"
      ],
      "execution_count": 398,
      "outputs": [
        {
          "output_type": "execute_result",
          "data": {
            "text/plain": [
              "array([  4.53542202,  -3.01044166, -17.13679217, ..., 209.20803071,\n",
              "       170.27866659, 117.36667076])"
            ]
          },
          "metadata": {
            "tags": []
          },
          "execution_count": 398
        }
      ]
    },
    {
      "cell_type": "code",
      "metadata": {
        "id": "9UsGHbmzWtxy"
      },
      "source": [
        "# With my predictions I have to submit a file to the Kaggle Competition \n",
        "# This DataFrame has to be exact to what theyre asking for \n",
        "to_submit = pd.DataFrame({'datetime': test.index, 'count': preds})"
      ],
      "execution_count": 399,
      "outputs": []
    },
    {
      "cell_type": "code",
      "metadata": {
        "colab": {
          "base_uri": "https://localhost:8080/",
          "height": 197
        },
        "id": "LBBufHzyRkcO",
        "outputId": "c902fa01-4049-496a-9854-af8b71f50d02"
      },
      "source": [
        "# Check to see if it looks accurate \n",
        "to_submit.head()"
      ],
      "execution_count": 400,
      "outputs": [
        {
          "output_type": "execute_result",
          "data": {
            "text/html": [
              "<div>\n",
              "<style scoped>\n",
              "    .dataframe tbody tr th:only-of-type {\n",
              "        vertical-align: middle;\n",
              "    }\n",
              "\n",
              "    .dataframe tbody tr th {\n",
              "        vertical-align: top;\n",
              "    }\n",
              "\n",
              "    .dataframe thead th {\n",
              "        text-align: right;\n",
              "    }\n",
              "</style>\n",
              "<table border=\"1\" class=\"dataframe\">\n",
              "  <thead>\n",
              "    <tr style=\"text-align: right;\">\n",
              "      <th></th>\n",
              "      <th>datetime</th>\n",
              "      <th>count</th>\n",
              "    </tr>\n",
              "  </thead>\n",
              "  <tbody>\n",
              "    <tr>\n",
              "      <th>0</th>\n",
              "      <td>2011-01-17 00:00:00</td>\n",
              "      <td>4.535422</td>\n",
              "    </tr>\n",
              "    <tr>\n",
              "      <th>1</th>\n",
              "      <td>2011-01-17 01:00:00</td>\n",
              "      <td>-3.010442</td>\n",
              "    </tr>\n",
              "    <tr>\n",
              "      <th>2</th>\n",
              "      <td>2011-01-17 02:00:00</td>\n",
              "      <td>-17.136792</td>\n",
              "    </tr>\n",
              "    <tr>\n",
              "      <th>3</th>\n",
              "      <td>2011-01-17 03:00:00</td>\n",
              "      <td>-18.732908</td>\n",
              "    </tr>\n",
              "    <tr>\n",
              "      <th>4</th>\n",
              "      <td>2011-01-17 04:00:00</td>\n",
              "      <td>-19.780081</td>\n",
              "    </tr>\n",
              "  </tbody>\n",
              "</table>\n",
              "</div>"
            ],
            "text/plain": [
              "              datetime      count\n",
              "0  2011-01-17 00:00:00   4.535422\n",
              "1  2011-01-17 01:00:00  -3.010442\n",
              "2  2011-01-17 02:00:00 -17.136792\n",
              "3  2011-01-17 03:00:00 -18.732908\n",
              "4  2011-01-17 04:00:00 -19.780081"
            ]
          },
          "metadata": {
            "tags": []
          },
          "execution_count": 400
        }
      ]
    },
    {
      "cell_type": "code",
      "metadata": {
        "id": "IFlA6_9-RpRk"
      },
      "source": [
        "# Save this file and make sure to get rid of the index \n",
        "to_submit.to_csv('/content/drive/MyDrive/Coding Dojo/Week 10: Gradient Boosting Machines /submission.csv', index = False)"
      ],
      "execution_count": 401,
      "outputs": []
    }
  ]
}